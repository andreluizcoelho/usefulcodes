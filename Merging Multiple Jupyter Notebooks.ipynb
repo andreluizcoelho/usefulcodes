{
 "cells": [
  {
   "cell_type": "code",
   "execution_count": 4,
   "metadata": {},
   "outputs": [],
   "source": [
    "import json\n",
    "notebook_path = 'C:/Users/andre/Documents/Programming Languages/Santander - Let\\'s Code'\n",
    "def read_ipynb(notebook_path):\n",
    "    with open(notebook_path, 'r', encoding='utf-8') as f:\n",
    "        return json.load(f)"
   ]
  },
  {
   "cell_type": "code",
   "execution_count": 5,
   "metadata": {},
   "outputs": [],
   "source": [
    "first_notebook = read_ipynb('file_1.ipynb')\n",
    "second_notebook = read_ipynb('file_2.ipynb')"
   ]
  },
  {
   "cell_type": "code",
   "execution_count": 6,
   "metadata": {},
   "outputs": [],
   "source": [
    "import copy\n",
    "final_notebook = copy.deepcopy(first_notebook)"
   ]
  },
  {
   "cell_type": "code",
   "execution_count": 7,
   "metadata": {},
   "outputs": [],
   "source": [
    "final_notebook['cells'] = first_notebook['cells'] + second_notebook['cells']"
   ]
  },
  {
   "cell_type": "code",
   "execution_count": 8,
   "metadata": {},
   "outputs": [],
   "source": [
    "def write_ipynb(notebook, notebook_path):\n",
    "    with open(notebook_path, 'w', encoding='utf-8') as f:\n",
    "        json.dump(notebook, f)\n",
    "\n",
    "# Saving the resulting notebook\n",
    "write_ipynb(final_notebook, 'final_notebook.ipynb')"
   ]
  },
  {
   "cell_type": "markdown",
   "metadata": {},
   "source": [
    "Where I saw part of this code [source](https://towardsdatascience.com/how-to-easily-merge-multiple-jupyter-notebooks-into-one-e464a22d2dc4)"
   ]
  }
 ],
 "metadata": {
  "kernelspec": {
   "display_name": "Python 3",
   "language": "python",
   "name": "python3"
  },
  "language_info": {
   "codemirror_mode": {
    "name": "ipython",
    "version": 3
   },
   "file_extension": ".py",
   "mimetype": "text/x-python",
   "name": "python",
   "nbconvert_exporter": "python",
   "pygments_lexer": "ipython3",
   "version": "3.8.6"
  }
 },
 "nbformat": 4,
 "nbformat_minor": 4
}
