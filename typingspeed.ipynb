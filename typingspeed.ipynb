{
 "cells": [
  {
   "cell_type": "code",
   "execution_count": 3,
   "metadata": {},
   "outputs": [
    {
     "name": "stdout",
     "output_type": "stream",
     "text": [
      "asset\n",
      "asset\n",
      "shades\n",
      "shades\n",
      "could\n",
      "could\n",
      "engagement\n",
      "engagement\n",
      "dallas\n",
      "dallas\n",
      "solid\n",
      "solid\n",
      "nice\n",
      "nice\n",
      "i\n",
      "i\n",
      "compare\n",
      "compare\n",
      "misc\n",
      "misc\n",
      "10\n",
      "13.7734369\n"
     ]
    }
   ],
   "source": [
    "import requests\n",
    "import random\n",
    "import time\n",
    "url = 'https://www.mit.edu/~ecprice/wordlist.10000'\n",
    "response = requests.get(url)\n",
    "words = response.content.splitlines()\n",
    "words = [word.decode('utf-8') for word in words]\n",
    "random_words = random.sample(words, 10)\n",
    "# print(random_words)\n",
    "points = 0\n",
    "tic = time.perf_counter()\n",
    "for word in random_words:\n",
    "    print(word)\n",
    "    input_ = input()\n",
    "    if input_ == word:\n",
    "        points = points + 1\n",
    "toc = time.perf_counter()\n",
    "print(points)\n",
    "print(toc-tic)"
   ]
  },
  {
   "cell_type": "code",
   "execution_count": null,
   "metadata": {},
   "outputs": [],
   "source": [
    "\n",
    "\n"
   ]
  }
 ],
 "metadata": {
  "kernelspec": {
   "display_name": "Python 3",
   "language": "python",
   "name": "python3"
  },
  "language_info": {
   "codemirror_mode": {
    "name": "ipython",
    "version": 3
   },
   "file_extension": ".py",
   "mimetype": "text/x-python",
   "name": "python",
   "nbconvert_exporter": "python",
   "pygments_lexer": "ipython3",
   "version": "3.8.6"
  }
 },
 "nbformat": 4,
 "nbformat_minor": 4
}
