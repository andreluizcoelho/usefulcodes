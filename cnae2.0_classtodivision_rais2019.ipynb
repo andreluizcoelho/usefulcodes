{
 "cells": [
  {
   "cell_type": "markdown",
   "id": "a9842a8a",
   "metadata": {},
   "source": [
    "[Rais 2019](http://www.rais.gov.br/sitio/index.jsf) stands for Relação Anual de Informações Sociais (Annual Social Information List). This Brazilian individual microdata comes with [CNAE 2.0](https://cnae.ibge.gov.br/?option=com_cnae&view=estrutura&Itemid=6160&tipo=cnae&versao_classe=7.0.0&versao_subclasse=) which stands for Classificação Nacional de Atividades Econômicas (National Classification of Economic Activities). The data comes with CNAE's class and subclass. But I needed the division, section, and also the names for each section. That's what this code does. It takes CNAE's class and turns it into its division, section and section's name. "
   ]
  },
  {
   "cell_type": "code",
   "execution_count": 1,
   "id": "15f5bc17",
   "metadata": {},
   "outputs": [],
   "source": [
    "import pandas as pd"
   ]
  },
  {
   "cell_type": "code",
   "execution_count": 2,
   "id": "f91febba",
   "metadata": {},
   "outputs": [],
   "source": [
    "rais2019cnae2 = pd.read_excel('C:/Users/andre/Documents/Thesis/Thesis Project/Novas planilhas até 22-12-2020/rais2019/bancoesusrais2019selecionado.xlsx')"
   ]
  },
  {
   "cell_type": "code",
   "execution_count": 3,
   "id": "e0b6f92a",
   "metadata": {},
   "outputs": [],
   "source": [
    "#rais2019cnae2.head()\n",
    "#the data has many other columns, but it was omitted because of its restrictions"
   ]
  },
  {
   "cell_type": "code",
   "execution_count": 4,
   "id": "54c4d703",
   "metadata": {},
   "outputs": [
    {
     "data": {
      "text/html": [
       "<div>\n",
       "<style scoped>\n",
       "    .dataframe tbody tr th:only-of-type {\n",
       "        vertical-align: middle;\n",
       "    }\n",
       "\n",
       "    .dataframe tbody tr th {\n",
       "        vertical-align: top;\n",
       "    }\n",
       "\n",
       "    .dataframe thead th {\n",
       "        text-align: right;\n",
       "    }\n",
       "</style>\n",
       "<table border=\"1\" class=\"dataframe\">\n",
       "  <thead>\n",
       "    <tr style=\"text-align: right;\">\n",
       "      <th></th>\n",
       "      <th>CNAE 2.0 Classe</th>\n",
       "    </tr>\n",
       "  </thead>\n",
       "  <tbody>\n",
       "    <tr>\n",
       "      <th>0</th>\n",
       "      <td>84124</td>\n",
       "    </tr>\n",
       "    <tr>\n",
       "      <th>1</th>\n",
       "      <td>84230</td>\n",
       "    </tr>\n",
       "    <tr>\n",
       "      <th>2</th>\n",
       "      <td>84230</td>\n",
       "    </tr>\n",
       "    <tr>\n",
       "      <th>3</th>\n",
       "      <td>84230</td>\n",
       "    </tr>\n",
       "    <tr>\n",
       "      <th>4</th>\n",
       "      <td>84116</td>\n",
       "    </tr>\n",
       "    <tr>\n",
       "      <th>...</th>\n",
       "      <td>...</td>\n",
       "    </tr>\n",
       "    <tr>\n",
       "      <th>252392</th>\n",
       "      <td>71120</td>\n",
       "    </tr>\n",
       "    <tr>\n",
       "      <th>252393</th>\n",
       "      <td>84116</td>\n",
       "    </tr>\n",
       "    <tr>\n",
       "      <th>252394</th>\n",
       "      <td>84116</td>\n",
       "    </tr>\n",
       "    <tr>\n",
       "      <th>252395</th>\n",
       "      <td>85201</td>\n",
       "    </tr>\n",
       "    <tr>\n",
       "      <th>252396</th>\n",
       "      <td>25128</td>\n",
       "    </tr>\n",
       "  </tbody>\n",
       "</table>\n",
       "<p>252397 rows × 1 columns</p>\n",
       "</div>"
      ],
      "text/plain": [
       "        CNAE 2.0 Classe\n",
       "0                 84124\n",
       "1                 84230\n",
       "2                 84230\n",
       "3                 84230\n",
       "4                 84116\n",
       "...                 ...\n",
       "252392            71120\n",
       "252393            84116\n",
       "252394            84116\n",
       "252395            85201\n",
       "252396            25128\n",
       "\n",
       "[252397 rows x 1 columns]"
      ]
     },
     "execution_count": 4,
     "metadata": {},
     "output_type": "execute_result"
    }
   ],
   "source": [
    "rais2019cnae2[['CNAE 2.0 Classe']]"
   ]
  },
  {
   "cell_type": "code",
   "execution_count": 5,
   "id": "5a6f66bf",
   "metadata": {},
   "outputs": [
    {
     "data": {
      "text/html": [
       "<div>\n",
       "<style scoped>\n",
       "    .dataframe tbody tr th:only-of-type {\n",
       "        vertical-align: middle;\n",
       "    }\n",
       "\n",
       "    .dataframe tbody tr th {\n",
       "        vertical-align: top;\n",
       "    }\n",
       "\n",
       "    .dataframe thead th {\n",
       "        text-align: right;\n",
       "    }\n",
       "</style>\n",
       "<table border=\"1\" class=\"dataframe\">\n",
       "  <thead>\n",
       "    <tr style=\"text-align: right;\">\n",
       "      <th></th>\n",
       "      <th>CNAE 2.0 Classe</th>\n",
       "    </tr>\n",
       "  </thead>\n",
       "  <tbody>\n",
       "    <tr>\n",
       "      <th>0</th>\n",
       "      <td>84124</td>\n",
       "    </tr>\n",
       "    <tr>\n",
       "      <th>1</th>\n",
       "      <td>84230</td>\n",
       "    </tr>\n",
       "    <tr>\n",
       "      <th>2</th>\n",
       "      <td>84230</td>\n",
       "    </tr>\n",
       "    <tr>\n",
       "      <th>3</th>\n",
       "      <td>84230</td>\n",
       "    </tr>\n",
       "    <tr>\n",
       "      <th>4</th>\n",
       "      <td>84116</td>\n",
       "    </tr>\n",
       "    <tr>\n",
       "      <th>...</th>\n",
       "      <td>...</td>\n",
       "    </tr>\n",
       "    <tr>\n",
       "      <th>252392</th>\n",
       "      <td>71120</td>\n",
       "    </tr>\n",
       "    <tr>\n",
       "      <th>252393</th>\n",
       "      <td>84116</td>\n",
       "    </tr>\n",
       "    <tr>\n",
       "      <th>252394</th>\n",
       "      <td>84116</td>\n",
       "    </tr>\n",
       "    <tr>\n",
       "      <th>252395</th>\n",
       "      <td>85201</td>\n",
       "    </tr>\n",
       "    <tr>\n",
       "      <th>252396</th>\n",
       "      <td>25128</td>\n",
       "    </tr>\n",
       "  </tbody>\n",
       "</table>\n",
       "<p>252397 rows × 1 columns</p>\n",
       "</div>"
      ],
      "text/plain": [
       "        CNAE 2.0 Classe\n",
       "0                 84124\n",
       "1                 84230\n",
       "2                 84230\n",
       "3                 84230\n",
       "4                 84116\n",
       "...                 ...\n",
       "252392            71120\n",
       "252393            84116\n",
       "252394            84116\n",
       "252395            85201\n",
       "252396            25128\n",
       "\n",
       "[252397 rows x 1 columns]"
      ]
     },
     "execution_count": 5,
     "metadata": {},
     "output_type": "execute_result"
    }
   ],
   "source": [
    "rais2019cnae2.loc[:, ['CNAE 2.0 Classe']]"
   ]
  },
  {
   "cell_type": "code",
   "execution_count": 8,
   "id": "0b4de0a8",
   "metadata": {},
   "outputs": [],
   "source": [
    "rais2019cnae2 = rais2019cnae2.loc[:, ['CNAE 2.0 Classe']]"
   ]
  },
  {
   "cell_type": "code",
   "execution_count": 9,
   "id": "f8763eca",
   "metadata": {},
   "outputs": [
    {
     "data": {
      "text/html": [
       "<div>\n",
       "<style scoped>\n",
       "    .dataframe tbody tr th:only-of-type {\n",
       "        vertical-align: middle;\n",
       "    }\n",
       "\n",
       "    .dataframe tbody tr th {\n",
       "        vertical-align: top;\n",
       "    }\n",
       "\n",
       "    .dataframe thead th {\n",
       "        text-align: right;\n",
       "    }\n",
       "</style>\n",
       "<table border=\"1\" class=\"dataframe\">\n",
       "  <thead>\n",
       "    <tr style=\"text-align: right;\">\n",
       "      <th></th>\n",
       "      <th>CNAE 2.0 Classe</th>\n",
       "    </tr>\n",
       "  </thead>\n",
       "  <tbody>\n",
       "    <tr>\n",
       "      <th>0</th>\n",
       "      <td>84124</td>\n",
       "    </tr>\n",
       "    <tr>\n",
       "      <th>1</th>\n",
       "      <td>84230</td>\n",
       "    </tr>\n",
       "    <tr>\n",
       "      <th>2</th>\n",
       "      <td>84230</td>\n",
       "    </tr>\n",
       "  </tbody>\n",
       "</table>\n",
       "</div>"
      ],
      "text/plain": [
       "   CNAE 2.0 Classe\n",
       "0            84124\n",
       "1            84230\n",
       "2            84230"
      ]
     },
     "execution_count": 9,
     "metadata": {},
     "output_type": "execute_result"
    }
   ],
   "source": [
    "rais2019cnae2.head(3)"
   ]
  },
  {
   "cell_type": "code",
   "execution_count": 12,
   "id": "a4bf791b",
   "metadata": {},
   "outputs": [],
   "source": [
    "rais2019cnae2.rename({'CNAE 2.0 Classe':'CNAE 2.0 Class'}, axis=1, inplace = True)"
   ]
  },
  {
   "cell_type": "code",
   "execution_count": 13,
   "id": "fc5635f2",
   "metadata": {},
   "outputs": [
    {
     "data": {
      "text/plain": [
       "84116    84192\n",
       "86101    11068\n",
       "56112     4292\n",
       "47113     4051\n",
       "84248     3969\n",
       "         ...  \n",
       "33155        1\n",
       "65421        1\n",
       "46214        1\n",
       "10325        1\n",
       "61302        1\n",
       "Name: CNAE 2.0 Class, Length: 569, dtype: int64"
      ]
     },
     "execution_count": 13,
     "metadata": {},
     "output_type": "execute_result"
    }
   ],
   "source": [
    "rais2019cnae2['CNAE 2.0 Class'].value_counts()"
   ]
  },
  {
   "cell_type": "code",
   "execution_count": 14,
   "id": "ecd32eeb",
   "metadata": {},
   "outputs": [
    {
     "data": {
      "text/plain": [
       "array([84124, 84230, 84116, 47890, 78108,  8991, 52311, 94201, 35115,\n",
       "       46231, 69206, 70204, 86101, 43291, 77110, 85325, 94308, 96025,\n",
       "       85937, 47229, 65413, 37011, 82202, 86305, 64221, 18113, 41204,\n",
       "       78302, 49124, 82113, 47113,  1326, 93123, 85996, 19217, 10538,\n",
       "       71120, 47296, 87123, 46818, 61205, 84248, 46397, 82997, 86402,\n",
       "        1334, 81214, 43134, 78205, 47440, 62015, 56112, 84221, 85317,\n",
       "       47121, 86500, 10317, 46338,  1113, 87115, 47717, 46524, 74901,\n",
       "       80111, 49302, 94120, 11119, 46451, 47318, 85139, 56201, 85422,\n",
       "       49213, 47822, 65502, 47636, 81125, 86607, 11224, 10929, 45111,\n",
       "       79112, 52231, 22293, 46443, 80129, 42120, 47431, 66223, 87204,\n",
       "       94910, 68102, 47598, 86909, 84302, 52508, 47814, 10660, 52117,\n",
       "       64239, 88006, 77331, 30113, 10139, 46346, 81222, 33121, 25128,\n",
       "       29450, 47547, 15106, 11135, 96092, 25993, 81117, 64620, 47610,\n",
       "       35140, 42227, 69125, 73190, 61108, 10651, 93131, 46796, 84132,\n",
       "       82300, 95118, 35131, 46311, 46729, 53105, 46354, 29107, 20622,\n",
       "       77390, 63119, 61906, 20711, 33147, 52125, 96017, 10716,  1610,\n",
       "       19314, 45307, 66193, 64212, 85201, 31047, 10945, 47555, 71201,\n",
       "       25918, 77233, 49221, 58115, 25110, 53202, 87301, 20401, 68226,\n",
       "       47539, 55108, 28402, 73114, 46168, 85112, 17214, 22226, 38114,\n",
       "       28330, 47741, 85414,  1628, 20916, 47733, 43215, 95215, 10121,\n",
       "       60217, 47415, 42111, 62023, 10724, 46371, 85121, 17311, 45200,\n",
       "        1130, 52401, 36006, 46915, 46427, 29417, 28291, 49299, 38211,\n",
       "       49230, 85333, 82911, 43991, 14126, 46656,  1555, 46494, 41107,\n",
       "       60101, 46842, 43223, 94995, 27597, 47521, 81303, 64921, 23303,\n",
       "       47563, 29204, 16226, 10996, 85503, 23923, 47130, 22218,  1512,\n",
       "       28691, 46834, 43304, 29492, 11216, 66126, 95126, 10627, 49116,\n",
       "       20614, 47571,  1211, 62091, 65111, 38122, 96033, 42928, 25322,\n",
       "       10520, 80200, 64352, 46320, 64107, 10643, 47211, 71197, 21211,\n",
       "       23991, 32990, 20631, 64310, 62040, 18130, 46745, 69117, 13405,\n",
       "       23117, 28127, 46630, 46877, 42219, 45412, 64361,  8100, 62031,\n",
       "       13138, 55906, 94111, 77322, 27902, 42138, 33155, 47245, 18229,\n",
       "       17427, 47423, 75001, 90019, 23427, 13529, 46826, 47725, 29301,\n",
       "       13235, 47831, 31012, 20312, 23915, 59146, 28135, 42995, 32400,\n",
       "       46737, 49400, 49248, 10911, 10414, 28259, 24113, 46184, 46648,\n",
       "       27317, 20924, 24415, 47849, 30920, 23206, 46516, 14118, 28232,\n",
       "       16234, 51111, 94936, 64247, 20215, 52290, 58212, 74102, 82199,\n",
       "       93212, 46460,  7243, 64913, 25136, 33112, 33210, 23125, 20991,\n",
       "       24237,  2209, 33139, 46419, 22234,  1199, 10813, 58221, 47512,\n",
       "       22129, 79902, 23192, 64638, 74200, 47237, 35204, 23494, 37029,\n",
       "       20525, 10333, 27228, 25390, 29425, 13111, 46699, 47326, 72207,\n",
       "       31021, 94928, 14134, 43118, 46176, 17419, 52397, 33198, 46192,\n",
       "       81290,  9904, 18121, 46893, 77292, 38327, 77195, 10112, 46478,\n",
       "       68218, 10619, 71111, 27104, 50114, 93191, 15319, 20142, 10961,\n",
       "       46435, 93298, 32116, 20932, 46869, 50998, 77217, 72100, 13596,\n",
       "       27210, 46711, 24491, 25420, 93115, 92003, 25934, 77403, 13511,\n",
       "       45439, 17338, 10201, 91023, 16293, 10937, 32507, 38394, 13308,\n",
       "       46362, 65120, 63992, 18211, 24229, 46133, 38319, 50301, 85911,\n",
       "       20738, 15211, 26213, 43126, 56121, 85929, 59111,  3213,  3221,\n",
       "       47628,  1393, 46621, 21106, 10511, 11127, 63194,  1636, 33171,\n",
       "       52320, 46931, 43916, 29506, 15394, 25217, 66215, 64999, 82920,\n",
       "       51200, 20339, 95291, 46613, 28216, 58131, 46923, 13545, 30911,\n",
       "       61418, 84213,  2101,  1423, 79121, 91031, 14223, 20134, 32302,\n",
       "       64930, 86216, 64344, 25926, 23419, 63917, 32914, 52222, 14142,\n",
       "       58298, 45129, 64379, 15335, 28224, 38220, 46150,  1229, 46851,\n",
       "       20720, 35123, 10694, 32922, 64336, 16102, 10953, 33295, 51129,\n",
       "        1521, 61302, 59120, 22196, 46125, 13146, 18300, 26515, 90035,\n",
       "       60225, 59201, 10431, 24245,  1539, 66291, 30121, 64701, 47857,\n",
       "       73122, 73203, 27333, 66304, 20291, 30997, 46141, 24512, 26108,\n",
       "       26604, 13120, 20118, 50912, 15297, 13227, 52214,  3116, 31039,\n",
       "       28666,  2306, 65201, 24393, 77225, 77314,  8932, 12204, 28615,\n",
       "        5003, 28623, 46117, 20193, 25438, 46214, 58123, 32124, 65421,\n",
       "       28321, 24318, 33163, 45421, 19225, 97005,  1598, 28640, 91015,\n",
       "       50220, 10325, 13219, 17494, 90027, 13537, 29441, 28119, 25314,\n",
       "       10635, 27406], dtype=int64)"
      ]
     },
     "execution_count": 14,
     "metadata": {},
     "output_type": "execute_result"
    }
   ],
   "source": [
    "rais2019cnae2['CNAE 2.0 Class'].unique()"
   ]
  },
  {
   "cell_type": "code",
   "execution_count": 15,
   "id": "954309f1",
   "metadata": {},
   "outputs": [
    {
     "data": {
      "text/plain": [
       "285"
      ]
     },
     "execution_count": 15,
     "metadata": {},
     "output_type": "execute_result"
    }
   ],
   "source": [
    "rais2019cnae2['CNAE 2.0 Class'].value_counts().nunique()"
   ]
  },
  {
   "cell_type": "code",
   "execution_count": 16,
   "id": "1201b84e",
   "metadata": {},
   "outputs": [
    {
     "data": {
      "text/plain": [
       "569"
      ]
     },
     "execution_count": 16,
     "metadata": {},
     "output_type": "execute_result"
    }
   ],
   "source": [
    "rais2019cnae2['CNAE 2.0 Class'].nunique()"
   ]
  },
  {
   "cell_type": "code",
   "execution_count": 17,
   "id": "a970b463",
   "metadata": {},
   "outputs": [
    {
     "data": {
      "text/plain": [
       "Index(['0', '1', '2', '3', '4', '5', '6', '7', '8', '9',\n",
       "       ...\n",
       "       '25', '25', '25', '25', '25', '25', '25', '25', '25', '25'],\n",
       "      dtype='object', length=252397)"
      ]
     },
     "execution_count": 17,
     "metadata": {},
     "output_type": "execute_result"
    }
   ],
   "source": [
    "rais2019cnae2['CNAE 2.0 Class'].index.astype(str).str[:2]"
   ]
  },
  {
   "cell_type": "code",
   "execution_count": 18,
   "id": "23ff6848",
   "metadata": {},
   "outputs": [
    {
     "data": {
      "text/plain": [
       "0         84\n",
       "1         84\n",
       "2         84\n",
       "3         84\n",
       "4         84\n",
       "          ..\n",
       "252392    71\n",
       "252393    84\n",
       "252394    84\n",
       "252395    85\n",
       "252396    25\n",
       "Name: CNAE 2.0 Class, Length: 252397, dtype: object"
      ]
     },
     "execution_count": 18,
     "metadata": {},
     "output_type": "execute_result"
    }
   ],
   "source": [
    "rais2019cnae2['CNAE 2.0 Class'].astype(str).str[:2]"
   ]
  },
  {
   "cell_type": "code",
   "execution_count": 19,
   "id": "9dbfceee",
   "metadata": {},
   "outputs": [],
   "source": [
    "#getting the first 2 strings will not work, because it will ignore the first empty space before the number\n",
    "#for example, the number 1 will have an empty string in front of it, this code above will ignore the empty space \n",
    "#and it will get the first 2 non-empty strings\n",
    "\n",
    "#see the code 'rais2019cnae2['CNAE 2.0 Class'].unique()' 5 lines above to see exactly what I mean"
   ]
  },
  {
   "cell_type": "code",
   "execution_count": 20,
   "id": "dd1b99e0",
   "metadata": {},
   "outputs": [
    {
     "data": {
      "text/plain": [
       "array(['84', '47', '78', '89', '52', '94', '35', '46', '69', '70', '86',\n",
       "       '43', '77', '85', '96', '65', '37', '82', '64', '18', '41', '49',\n",
       "       '13', '93', '19', '10', '71', '87', '61', '81', '62', '56', '11',\n",
       "       '74', '80', '45', '79', '22', '42', '66', '68', '88', '30', '33',\n",
       "       '25', '29', '15', '73', '95', '53', '20', '63', '16', '31', '58',\n",
       "       '55', '28', '17', '38', '60', '36', '14', '27', '23', '12', '21',\n",
       "       '32', '75', '90', '59', '24', '51', '72', '99', '50', '92', '91',\n",
       "       '26', '97'], dtype=object)"
      ]
     },
     "execution_count": 20,
     "metadata": {},
     "output_type": "execute_result"
    }
   ],
   "source": [
    "rais2019cnae2['CNAE 2.0 Class'].astype(str).str[:2].unique()"
   ]
  },
  {
   "cell_type": "code",
   "execution_count": 21,
   "id": "bda5bb24",
   "metadata": {},
   "outputs": [],
   "source": [
    "#dropping the last 3 digits for all numbers in the column will work"
   ]
  },
  {
   "cell_type": "code",
   "execution_count": 22,
   "id": "7cd60959",
   "metadata": {},
   "outputs": [
    {
     "data": {
      "text/plain": [
       "0         84\n",
       "1         84\n",
       "2         84\n",
       "3         84\n",
       "4         84\n",
       "          ..\n",
       "252392    71\n",
       "252393    84\n",
       "252394    84\n",
       "252395    85\n",
       "252396    25\n",
       "Name: CNAE 2.0 Class, Length: 252397, dtype: object"
      ]
     },
     "execution_count": 22,
     "metadata": {},
     "output_type": "execute_result"
    }
   ],
   "source": [
    "rais2019cnae2['CNAE 2.0 Class'].astype(str).str[:-3]"
   ]
  },
  {
   "cell_type": "code",
   "execution_count": 23,
   "id": "c419879c",
   "metadata": {},
   "outputs": [],
   "source": [
    "rais2019cnae2['CNAE 2.0 Division'] = rais2019cnae2['CNAE 2.0 Class'].astype(str).str[:-3]"
   ]
  },
  {
   "cell_type": "code",
   "execution_count": 24,
   "id": "a3486b11",
   "metadata": {},
   "outputs": [
    {
     "data": {
      "text/html": [
       "<div>\n",
       "<style scoped>\n",
       "    .dataframe tbody tr th:only-of-type {\n",
       "        vertical-align: middle;\n",
       "    }\n",
       "\n",
       "    .dataframe tbody tr th {\n",
       "        vertical-align: top;\n",
       "    }\n",
       "\n",
       "    .dataframe thead th {\n",
       "        text-align: right;\n",
       "    }\n",
       "</style>\n",
       "<table border=\"1\" class=\"dataframe\">\n",
       "  <thead>\n",
       "    <tr style=\"text-align: right;\">\n",
       "      <th></th>\n",
       "      <th>CNAE 2.0 Class</th>\n",
       "      <th>CNAE 2.0 Division</th>\n",
       "    </tr>\n",
       "  </thead>\n",
       "  <tbody>\n",
       "    <tr>\n",
       "      <th>0</th>\n",
       "      <td>84124</td>\n",
       "      <td>84</td>\n",
       "    </tr>\n",
       "    <tr>\n",
       "      <th>1</th>\n",
       "      <td>84230</td>\n",
       "      <td>84</td>\n",
       "    </tr>\n",
       "    <tr>\n",
       "      <th>2</th>\n",
       "      <td>84230</td>\n",
       "      <td>84</td>\n",
       "    </tr>\n",
       "  </tbody>\n",
       "</table>\n",
       "</div>"
      ],
      "text/plain": [
       "   CNAE 2.0 Class CNAE 2.0 Division\n",
       "0           84124                84\n",
       "1           84230                84\n",
       "2           84230                84"
      ]
     },
     "execution_count": 24,
     "metadata": {},
     "output_type": "execute_result"
    }
   ],
   "source": [
    "rais2019cnae2.head(3)"
   ]
  },
  {
   "cell_type": "code",
   "execution_count": 25,
   "id": "f5a9c41f",
   "metadata": {},
   "outputs": [],
   "source": [
    "rais2019cnae2['CNAE 2.0 Section'] = rais2019cnae2['CNAE 2.0 Division']"
   ]
  },
  {
   "cell_type": "code",
   "execution_count": 26,
   "id": "ab5a9f33",
   "metadata": {},
   "outputs": [],
   "source": [
    "rais2019cnae2['CNAE 2.0 Section'] = rais2019cnae2['CNAE 2.0 Section'].astype(int).replace(1,'A').replace(2,'A').replace(3,'A').replace(5,'B').replace(6,'B').replace(7,'B').replace(8,'B').replace(9,'B').replace(10,'C').replace(11,'C').replace(12,'C').replace(13,'C').replace(14,'C').replace(15,'C').replace(16,'C').replace(17,'C').replace(18,'C').replace(19,'C').replace(20,'C').replace(21,'C').replace(21,'C').replace(22,'C').replace(23,'C').replace(24,'C').replace(25,'C').replace(26,'C').replace(27,'C').replace(28,'C').replace(29,'C').replace(30,'C').replace(31,'C').replace(32,'C').replace(33,'C').replace(35,'D').replace(36,'E').replace(37,'E').replace(38,'E').replace(39,'E').replace(41,'F').replace(42,'F').replace(42,'F').replace(43,'F').replace(45,'G').replace(46,'G').replace(47,'G').replace(49,'H').replace(50,'H').replace(51,'H').replace(52,'H').replace(53,'H').replace(55,'I').replace(56,'I').replace(58,'J').replace(59,'J').replace(60,'J').replace(61,'J').replace(62,'J').replace(63,'J').replace(64,'K').replace(65,'K').replace(66,'K').replace(68,'L').replace(69,'M').replace(70,'M').replace(71,'M').replace(72,'M').replace(73,'M').replace(74,'M').replace(75,'M').replace(77,'N').replace(78,'N').replace(79,'N').replace(80,'N').replace(81,'N').replace(82,'N').replace(84,'O').replace(85,'P').replace(86,'Q').replace(87,'Q').replace(88,'Q').replace(90,'R').replace(91,'R').replace(92,'R').replace(93,'R').replace(94,'S').replace(95,'S').replace(96,'S').replace(97,'T').replace(99,'U')"
   ]
  },
  {
   "cell_type": "code",
   "execution_count": 27,
   "id": "c1ee744d",
   "metadata": {},
   "outputs": [
    {
     "data": {
      "text/html": [
       "<div>\n",
       "<style scoped>\n",
       "    .dataframe tbody tr th:only-of-type {\n",
       "        vertical-align: middle;\n",
       "    }\n",
       "\n",
       "    .dataframe tbody tr th {\n",
       "        vertical-align: top;\n",
       "    }\n",
       "\n",
       "    .dataframe thead th {\n",
       "        text-align: right;\n",
       "    }\n",
       "</style>\n",
       "<table border=\"1\" class=\"dataframe\">\n",
       "  <thead>\n",
       "    <tr style=\"text-align: right;\">\n",
       "      <th></th>\n",
       "      <th>CNAE 2.0 Class</th>\n",
       "      <th>CNAE 2.0 Division</th>\n",
       "      <th>CNAE 2.0 Section</th>\n",
       "    </tr>\n",
       "  </thead>\n",
       "  <tbody>\n",
       "    <tr>\n",
       "      <th>0</th>\n",
       "      <td>84124</td>\n",
       "      <td>84</td>\n",
       "      <td>O</td>\n",
       "    </tr>\n",
       "    <tr>\n",
       "      <th>1</th>\n",
       "      <td>84230</td>\n",
       "      <td>84</td>\n",
       "      <td>O</td>\n",
       "    </tr>\n",
       "    <tr>\n",
       "      <th>2</th>\n",
       "      <td>84230</td>\n",
       "      <td>84</td>\n",
       "      <td>O</td>\n",
       "    </tr>\n",
       "    <tr>\n",
       "      <th>3</th>\n",
       "      <td>84230</td>\n",
       "      <td>84</td>\n",
       "      <td>O</td>\n",
       "    </tr>\n",
       "    <tr>\n",
       "      <th>4</th>\n",
       "      <td>84116</td>\n",
       "      <td>84</td>\n",
       "      <td>O</td>\n",
       "    </tr>\n",
       "  </tbody>\n",
       "</table>\n",
       "</div>"
      ],
      "text/plain": [
       "   CNAE 2.0 Class CNAE 2.0 Division CNAE 2.0 Section\n",
       "0           84124                84                O\n",
       "1           84230                84                O\n",
       "2           84230                84                O\n",
       "3           84230                84                O\n",
       "4           84116                84                O"
      ]
     },
     "execution_count": 27,
     "metadata": {},
     "output_type": "execute_result"
    }
   ],
   "source": [
    "rais2019cnae2.head()"
   ]
  },
  {
   "cell_type": "markdown",
   "id": "fffe4e74",
   "metadata": {},
   "source": [
    "The number for each division, letter for each section, and the name for each section comes from this [page](https://cnae.ibge.gov.br/?option=com_cnae&view=estrutura&Itemid=6160&chave=&tipo=cnae&versao_classe=7.0.0&versao_subclasse=9.1.0)"
   ]
  },
  {
   "cell_type": "code",
   "execution_count": 32,
   "id": "262d6641",
   "metadata": {},
   "outputs": [],
   "source": [
    "rais2019cnae2['CNAE 2.0 Section Name'] = rais2019cnae2['CNAE 2.0 Section']"
   ]
  },
  {
   "cell_type": "code",
   "execution_count": 33,
   "id": "0d775968",
   "metadata": {},
   "outputs": [],
   "source": [
    "rais2019cnae2['CNAE 2.0 Section Name'] = rais2019cnae2['CNAE 2.0 Section Name'].str.replace('A', 'AGRICULTURA, PECUÁRIA, PRODUÇÃO FLORESTAL, PESCA E AQÜICULTURA').replace('B','INDÚSTRIAS EXTRATIVAS').replace('C','INDÚSTRIAS DE TRANSFORMAÇÃO').replace('D','ELETRICIDADE E GÁS').replace('E','ÁGUA, ESGOTO, ATIVIDADES DE GESTÃO DE RESÍDUOS E DESCONTAMINAÇÃO').replace('F','CONSTRUÇÃO').replace('G','COMÉRCIO; REPARAÇÃO DE VEÍCULOS AUTOMOTORES E MOTOCICLETAS').replace('H','TRANSPORTE, ARMAZENAGEM E CORREIO').replace('I','ALOJAMENTO E ALIMENTAÇÃO').replace('J','INFORMAÇÃO E COMUNICAÇÃO').replace('K','ATIVIDADES FINANCEIRAS, DE SEGUROS E SERVIÇOS RELACIONADOS').replace('L', 'ATIVIDADES IMOBILIÁRIAS').replace('M','ATIVIDADES PROFISSIONAIS, CIENTÍFICAS E TÉCNICAS').replace('N','ATIVIDADES ADMINISTRATIVAS E SERVIÇOS COMPLEMENTARES').replace('O','ADMINISTRAÇÃO PÚBLICA, DEFESA E SEGURIDADE SOCIAL').replace('P','EDUCAÇÃO').replace('Q','SAÚDE HUMANA E SERVIÇOS SOCIAIS').replace('R','ARTES, CULTURA, ESPORTE E RECREAÇÃO').replace('S','OUTRAS ATIVIDADES DE SERVIÇOS').replace('T','SERVIÇOS DOMÉSTICOS').replace('U','ORGANISMOS INTERNACIONAIS E OUTRAS INSTITUIÇÕES EXTRATERRITORIAIS')"
   ]
  },
  {
   "cell_type": "code",
   "execution_count": 34,
   "id": "b9c07383",
   "metadata": {},
   "outputs": [
    {
     "data": {
      "text/html": [
       "<div>\n",
       "<style scoped>\n",
       "    .dataframe tbody tr th:only-of-type {\n",
       "        vertical-align: middle;\n",
       "    }\n",
       "\n",
       "    .dataframe tbody tr th {\n",
       "        vertical-align: top;\n",
       "    }\n",
       "\n",
       "    .dataframe thead th {\n",
       "        text-align: right;\n",
       "    }\n",
       "</style>\n",
       "<table border=\"1\" class=\"dataframe\">\n",
       "  <thead>\n",
       "    <tr style=\"text-align: right;\">\n",
       "      <th></th>\n",
       "      <th>CNAE 2.0 Class</th>\n",
       "      <th>CNAE 2.0 Division</th>\n",
       "      <th>CNAE 2.0 Section</th>\n",
       "      <th>CNAE 2.0 Section Name</th>\n",
       "    </tr>\n",
       "  </thead>\n",
       "  <tbody>\n",
       "    <tr>\n",
       "      <th>0</th>\n",
       "      <td>84124</td>\n",
       "      <td>84</td>\n",
       "      <td>O</td>\n",
       "      <td>ADMINISTRAÇÃO PÚBLICA, DEFESA E SEGURIDADE SOCIAL</td>\n",
       "    </tr>\n",
       "    <tr>\n",
       "      <th>1</th>\n",
       "      <td>84230</td>\n",
       "      <td>84</td>\n",
       "      <td>O</td>\n",
       "      <td>ADMINISTRAÇÃO PÚBLICA, DEFESA E SEGURIDADE SOCIAL</td>\n",
       "    </tr>\n",
       "    <tr>\n",
       "      <th>2</th>\n",
       "      <td>84230</td>\n",
       "      <td>84</td>\n",
       "      <td>O</td>\n",
       "      <td>ADMINISTRAÇÃO PÚBLICA, DEFESA E SEGURIDADE SOCIAL</td>\n",
       "    </tr>\n",
       "    <tr>\n",
       "      <th>3</th>\n",
       "      <td>84230</td>\n",
       "      <td>84</td>\n",
       "      <td>O</td>\n",
       "      <td>ADMINISTRAÇÃO PÚBLICA, DEFESA E SEGURIDADE SOCIAL</td>\n",
       "    </tr>\n",
       "    <tr>\n",
       "      <th>4</th>\n",
       "      <td>84116</td>\n",
       "      <td>84</td>\n",
       "      <td>O</td>\n",
       "      <td>ADMINISTRAÇÃO PÚBLICA, DEFESA E SEGURIDADE SOCIAL</td>\n",
       "    </tr>\n",
       "  </tbody>\n",
       "</table>\n",
       "</div>"
      ],
      "text/plain": [
       "   CNAE 2.0 Class CNAE 2.0 Division CNAE 2.0 Section  \\\n",
       "0           84124                84                O   \n",
       "1           84230                84                O   \n",
       "2           84230                84                O   \n",
       "3           84230                84                O   \n",
       "4           84116                84                O   \n",
       "\n",
       "                               CNAE 2.0 Section Name  \n",
       "0  ADMINISTRAÇÃO PÚBLICA, DEFESA E SEGURIDADE SOCIAL  \n",
       "1  ADMINISTRAÇÃO PÚBLICA, DEFESA E SEGURIDADE SOCIAL  \n",
       "2  ADMINISTRAÇÃO PÚBLICA, DEFESA E SEGURIDADE SOCIAL  \n",
       "3  ADMINISTRAÇÃO PÚBLICA, DEFESA E SEGURIDADE SOCIAL  \n",
       "4  ADMINISTRAÇÃO PÚBLICA, DEFESA E SEGURIDADE SOCIAL  "
      ]
     },
     "execution_count": 34,
     "metadata": {},
     "output_type": "execute_result"
    }
   ],
   "source": [
    "rais2019cnae2.head()"
   ]
  },
  {
   "cell_type": "code",
   "execution_count": 35,
   "id": "31a09e82",
   "metadata": {},
   "outputs": [],
   "source": [
    "replacers = {'AGRICULTURA, PECUÁRIA, PRODUÇÃO FLORESTAL, PESCA E AQÜICULTURA ':'AGRICULTURE, LIVESTOCK, FORESTRY PRODUCTION, FISHING AND AQUACULTURE','INDÚSTRIAS EXTRATIVAS':'EXTRACTIVE INDUSTRIES','INDÚSTRIAS DE TRANSFORMAÇÃO':'PROCESSING INDUSTRIES','ELETRICIDADE E GÁS':'ELECTRICITY AND GAS','ÁGUA, ESGOTO, ATIVIDADES DE GESTÃO DE RESÍDUOS E DESCONTAMINAÇÃO':'WATER, SEWAGE, WASTE MANAGEMENT AND DECONTAMINATION ACTIVITIES', 'CONSTRUÇÃO':'CONSTRUCTION','COMÉRCIO; REPARAÇÃO DE VEÍCULOS AUTOMOTORES E MOTOCICLETAS':'TRADE; REPAIR OF MOTOR VEHICLES AND MOTORCYCLES','TRANSPORTE, ARMAZENAGEM E CORREIO':'TRANSPORTATION, STORAGE AND MAIL','ALOJAMENTO E ALIMENTAÇÃO':'ACCOMMODATION AND FOOD','INFORMAÇÃO E COMUNICAÇÃO':'INFORMATION AND COMMUNICATION','ATIVIDADES FINANCEIRAS, DE SEGUROS E SERVIÇOS RELACIONADOS':'FINANCIAL, INSURANCE AND RELATED SERVICES ACTIVITIES','ATIVIDADES IMOBILIÁRIAS':'REAL ESTATE ACTIVITIES','ATIVIDADES PROFISSIONAIS, CIENTÍFICAS E TÉCNICAS':'PROFESSIONAL, SCIENTIFIC AND TECHNICAL ACTIVITIES','ATIVIDADES ADMINISTRATIVAS E SERVIÇOS COMPLEMENTARES':'ADMINISTRATIVE ACTIVITIES AND COMPLEMENTARY SERVICES','ADMINISTRAÇÃO PÚBLICA, DEFESA E SEGURIDADE SOCIAL':'PUBLIC ADMINISTRATION, DEFENSE AND SOCIAL SECURITY','EDUCAÇÃO':'EDUCATION','SAÚDE HUMANA E SERVIÇOS SOCIAIS':'HUMAN HEALTH AND SOCIAL SERVICES','ARTES, CULTURA, ESPORTE E RECREAÇÃO':'ARTS, CULTURE, SPORTS AND RECREATION','OUTRAS ATIVIDADES DE SERVIÇOS':'OTHER SERVICE ACTIVITIES','SERVIÇOS DOMÉSTICOS':'DOMESTIC SERVICES','ORGANISMOS INTERNACIONAIS E OUTRAS INSTITUIÇÕES EXTRATERRITORIAIS':'INTERNATIONAL BODIES AND OTHER EXTRATERRITORIAL INSTITUTIONS'} \n",
    "rais2019cnae2['CNAE 2.0 Section Name'] = rais2019cnae2['CNAE 2.0 Section Name'].replace(replacers)"
   ]
  },
  {
   "cell_type": "code",
   "execution_count": 36,
   "id": "158e927e",
   "metadata": {},
   "outputs": [
    {
     "data": {
      "text/html": [
       "<div>\n",
       "<style scoped>\n",
       "    .dataframe tbody tr th:only-of-type {\n",
       "        vertical-align: middle;\n",
       "    }\n",
       "\n",
       "    .dataframe tbody tr th {\n",
       "        vertical-align: top;\n",
       "    }\n",
       "\n",
       "    .dataframe thead th {\n",
       "        text-align: right;\n",
       "    }\n",
       "</style>\n",
       "<table border=\"1\" class=\"dataframe\">\n",
       "  <thead>\n",
       "    <tr style=\"text-align: right;\">\n",
       "      <th></th>\n",
       "      <th>CNAE 2.0 Class</th>\n",
       "      <th>CNAE 2.0 Division</th>\n",
       "      <th>CNAE 2.0 Section</th>\n",
       "      <th>CNAE 2.0 Section Name</th>\n",
       "    </tr>\n",
       "  </thead>\n",
       "  <tbody>\n",
       "    <tr>\n",
       "      <th>0</th>\n",
       "      <td>84124</td>\n",
       "      <td>84</td>\n",
       "      <td>O</td>\n",
       "      <td>PUBLIC ADMINISTRATION, DEFENSE AND SOCIAL SECU...</td>\n",
       "    </tr>\n",
       "    <tr>\n",
       "      <th>1</th>\n",
       "      <td>84230</td>\n",
       "      <td>84</td>\n",
       "      <td>O</td>\n",
       "      <td>PUBLIC ADMINISTRATION, DEFENSE AND SOCIAL SECU...</td>\n",
       "    </tr>\n",
       "    <tr>\n",
       "      <th>2</th>\n",
       "      <td>84230</td>\n",
       "      <td>84</td>\n",
       "      <td>O</td>\n",
       "      <td>PUBLIC ADMINISTRATION, DEFENSE AND SOCIAL SECU...</td>\n",
       "    </tr>\n",
       "    <tr>\n",
       "      <th>3</th>\n",
       "      <td>84230</td>\n",
       "      <td>84</td>\n",
       "      <td>O</td>\n",
       "      <td>PUBLIC ADMINISTRATION, DEFENSE AND SOCIAL SECU...</td>\n",
       "    </tr>\n",
       "    <tr>\n",
       "      <th>4</th>\n",
       "      <td>84116</td>\n",
       "      <td>84</td>\n",
       "      <td>O</td>\n",
       "      <td>PUBLIC ADMINISTRATION, DEFENSE AND SOCIAL SECU...</td>\n",
       "    </tr>\n",
       "  </tbody>\n",
       "</table>\n",
       "</div>"
      ],
      "text/plain": [
       "   CNAE 2.0 Class CNAE 2.0 Division CNAE 2.0 Section  \\\n",
       "0           84124                84                O   \n",
       "1           84230                84                O   \n",
       "2           84230                84                O   \n",
       "3           84230                84                O   \n",
       "4           84116                84                O   \n",
       "\n",
       "                               CNAE 2.0 Section Name  \n",
       "0  PUBLIC ADMINISTRATION, DEFENSE AND SOCIAL SECU...  \n",
       "1  PUBLIC ADMINISTRATION, DEFENSE AND SOCIAL SECU...  \n",
       "2  PUBLIC ADMINISTRATION, DEFENSE AND SOCIAL SECU...  \n",
       "3  PUBLIC ADMINISTRATION, DEFENSE AND SOCIAL SECU...  \n",
       "4  PUBLIC ADMINISTRATION, DEFENSE AND SOCIAL SECU...  "
      ]
     },
     "execution_count": 36,
     "metadata": {},
     "output_type": "execute_result"
    }
   ],
   "source": [
    "rais2019cnae2.head()"
   ]
  },
  {
   "cell_type": "code",
   "execution_count": 45,
   "id": "78b61961",
   "metadata": {},
   "outputs": [],
   "source": [
    "rais2019cnae2 = rais2019cnae2[rais2019cnae2.columns[[2,1,0,3]]]"
   ]
  },
  {
   "cell_type": "code",
   "execution_count": 46,
   "id": "729529f8",
   "metadata": {},
   "outputs": [
    {
     "data": {
      "text/html": [
       "<div>\n",
       "<style scoped>\n",
       "    .dataframe tbody tr th:only-of-type {\n",
       "        vertical-align: middle;\n",
       "    }\n",
       "\n",
       "    .dataframe tbody tr th {\n",
       "        vertical-align: top;\n",
       "    }\n",
       "\n",
       "    .dataframe thead th {\n",
       "        text-align: right;\n",
       "    }\n",
       "</style>\n",
       "<table border=\"1\" class=\"dataframe\">\n",
       "  <thead>\n",
       "    <tr style=\"text-align: right;\">\n",
       "      <th></th>\n",
       "      <th>CNAE 2.0 Section</th>\n",
       "      <th>CNAE 2.0 Division</th>\n",
       "      <th>CNAE 2.0 Class</th>\n",
       "      <th>CNAE 2.0 Section Name</th>\n",
       "    </tr>\n",
       "  </thead>\n",
       "  <tbody>\n",
       "    <tr>\n",
       "      <th>0</th>\n",
       "      <td>O</td>\n",
       "      <td>84</td>\n",
       "      <td>84124</td>\n",
       "      <td>PUBLIC ADMINISTRATION, DEFENSE AND SOCIAL SECU...</td>\n",
       "    </tr>\n",
       "    <tr>\n",
       "      <th>1</th>\n",
       "      <td>O</td>\n",
       "      <td>84</td>\n",
       "      <td>84230</td>\n",
       "      <td>PUBLIC ADMINISTRATION, DEFENSE AND SOCIAL SECU...</td>\n",
       "    </tr>\n",
       "    <tr>\n",
       "      <th>2</th>\n",
       "      <td>O</td>\n",
       "      <td>84</td>\n",
       "      <td>84230</td>\n",
       "      <td>PUBLIC ADMINISTRATION, DEFENSE AND SOCIAL SECU...</td>\n",
       "    </tr>\n",
       "    <tr>\n",
       "      <th>3</th>\n",
       "      <td>O</td>\n",
       "      <td>84</td>\n",
       "      <td>84230</td>\n",
       "      <td>PUBLIC ADMINISTRATION, DEFENSE AND SOCIAL SECU...</td>\n",
       "    </tr>\n",
       "    <tr>\n",
       "      <th>4</th>\n",
       "      <td>O</td>\n",
       "      <td>84</td>\n",
       "      <td>84116</td>\n",
       "      <td>PUBLIC ADMINISTRATION, DEFENSE AND SOCIAL SECU...</td>\n",
       "    </tr>\n",
       "  </tbody>\n",
       "</table>\n",
       "</div>"
      ],
      "text/plain": [
       "  CNAE 2.0 Section CNAE 2.0 Division  CNAE 2.0 Class  \\\n",
       "0                O                84           84124   \n",
       "1                O                84           84230   \n",
       "2                O                84           84230   \n",
       "3                O                84           84230   \n",
       "4                O                84           84116   \n",
       "\n",
       "                               CNAE 2.0 Section Name  \n",
       "0  PUBLIC ADMINISTRATION, DEFENSE AND SOCIAL SECU...  \n",
       "1  PUBLIC ADMINISTRATION, DEFENSE AND SOCIAL SECU...  \n",
       "2  PUBLIC ADMINISTRATION, DEFENSE AND SOCIAL SECU...  \n",
       "3  PUBLIC ADMINISTRATION, DEFENSE AND SOCIAL SECU...  \n",
       "4  PUBLIC ADMINISTRATION, DEFENSE AND SOCIAL SECU...  "
      ]
     },
     "execution_count": 46,
     "metadata": {},
     "output_type": "execute_result"
    }
   ],
   "source": [
    "rais2019cnae2.head()"
   ]
  },
  {
   "cell_type": "code",
   "execution_count": null,
   "id": "d3c32271",
   "metadata": {},
   "outputs": [],
   "source": []
  }
 ],
 "metadata": {
  "kernelspec": {
   "display_name": "Python 3",
   "language": "python",
   "name": "python3"
  },
  "language_info": {
   "codemirror_mode": {
    "name": "ipython",
    "version": 3
   },
   "file_extension": ".py",
   "mimetype": "text/x-python",
   "name": "python",
   "nbconvert_exporter": "python",
   "pygments_lexer": "ipython3",
   "version": "3.8.8"
  }
 },
 "nbformat": 4,
 "nbformat_minor": 5
}
