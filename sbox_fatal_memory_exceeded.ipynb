{
 "cells": [
  {
   "cell_type": "markdown",
   "id": "0e5a5e01",
   "metadata": {},
   "source": [
    "## Solving the 'SBOX_FATAL_MEMORY_EXCEEDED' error"
   ]
  },
  {
   "cell_type": "markdown",
   "id": "66751349",
   "metadata": {},
   "source": [
    "When trying to open a jupyter notebook after working on .ipynb file, after many items and output have been saved the following error appears: 'SBOX_FATAL_MEMORY_EXCEEDED'.\n",
    "This happened to me with a file of 104MB. Someone might think that the file was huge, it's not that big compared with \n",
    "other files over 500MB that I opened without getting the same problem nor any other errors.\n",
    "The first thing to try I'd say is to close the command prompt and type the code [inside](https://stackoverflow.com/questions/52730839/how-do-i-change-notebookapp-iopub-data-rate-limit-for-jupyter) the command prompt (inside Anaconda Prompt if you're using it):"
   ]
  },
  {
   "cell_type": "markdown",
   "id": "e783bb2d",
   "metadata": {},
   "source": [
    "jupyter notebook --NotebookApp.iopub_data_rate_limit=1.0e10"
   ]
  },
  {
   "cell_type": "markdown",
   "id": "2dd9efb2",
   "metadata": {},
   "source": [
    "The code above will increase the data rate limit, and it works in many cases as it did for me in other cases. But it did not work for me in this specific problem. If it does not work for you, another [way](https://mindtrove.info/jupyter-tidbit-clear-outputs/) to try is to remove all cell outputs from the jupyter notebook file, printing the cleaned notebook and redirecting it into another file as shown below:"
   ]
  },
  {
   "cell_type": "markdown",
   "id": "5122b64c",
   "metadata": {},
   "source": [
    "jupyter nbconvert my_input_notebook.ipynb --to notebook --ClearOutputPreprocessor.enabled=True --stdout > my_output_notebook.ipynb"
   ]
  },
  {
   "cell_type": "markdown",
   "id": "12a33b47",
   "metadata": {},
   "source": [
    "A file 'my_input_notebook.ipynb' is created without the whole jupyter notebook output, which will decrease memory size dramatically, getting rid of the 'SBOX_FATAL_MEMORY_EXCEEDED'\n",
    "error. In my case, this worked and the memory size dropped from 104MB to 1.3MB, a huge difference. Another option is to convert a notebook to an executable script:"
   ]
  },
  {
   "cell_type": "markdown",
   "id": "1165da93",
   "metadata": {},
   "source": [
    "jupyter nbconvert --to script my_notebook.ipynb"
   ]
  },
  {
   "cell_type": "markdown",
   "id": "e7a9696b",
   "metadata": {},
   "source": [
    "The code above works nicely also. It makes a .py file from the .ipynb without having to open the jupyter notebook. If I tried to open the original notebook .ipynb file to download it as .py file, it would crash before even loading it, so the code above can be a good option. If you want to see other options that might also work for you, here it [is](https://nbconvert.readthedocs.io/en/latest/usage.html#convert-script). Do not forget that a .ipynb file is a JSON file, another way is to open the ipynb file as a JSON file, and copy the lines of code you want from the ipynb file. The [code](https://stackoverflow.com/questions/43334836/how-can-we-convert-ipynb-file-to-json) is below:"
   ]
  },
  {
   "cell_type": "markdown",
   "id": "55586a01",
   "metadata": {},
   "source": [
    "import json \n",
    "with open('data.ipynb', mode= 'r', encoding= 'utf-8') as f:\n",
    "    myfile = json.loads(f.read())\n",
    "myfile"
   ]
  },
  {
   "cell_type": "markdown",
   "id": "3c4c0abb",
   "metadata": {},
   "source": [
    "I hope this is useful, I'm sure other people came across the same problem. The first three cells with the lines of code are in markdown because they shall be typed inside the command prompt (Anaconda Prompt is preferred). And the last cell above must be typed inside the jupyter notebook input cell instead of the command prompt as the other lines of code, but it's as markdown because the JSON file from my .ipynb file is enormous and it has restricted information; I also tested the code and it works fine. Thanks for reading!"
   ]
  }
 ],
 "metadata": {
  "kernelspec": {
   "display_name": "Python 3",
   "language": "python",
   "name": "python3"
  },
  "language_info": {
   "codemirror_mode": {
    "name": "ipython",
    "version": 3
   },
   "file_extension": ".py",
   "mimetype": "text/x-python",
   "name": "python",
   "nbconvert_exporter": "python",
   "pygments_lexer": "ipython3",
   "version": "3.8.8"
  }
 },
 "nbformat": 4,
 "nbformat_minor": 5
}
